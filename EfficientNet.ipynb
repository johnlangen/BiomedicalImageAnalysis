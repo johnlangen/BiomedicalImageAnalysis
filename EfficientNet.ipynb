{
  "nbformat": 4,
  "nbformat_minor": 0,
  "metadata": {
    "colab": {
      "provenance": []
    },
    "kernelspec": {
      "name": "python3",
      "display_name": "Python 3"
    },
    "language_info": {
      "name": "python"
    }
  },
  "cells": [
    {
      "cell_type": "code",
      "execution_count": 1,
      "metadata": {
        "colab": {
          "base_uri": "https://localhost:8080/"
        },
        "id": "nUOJ13g3_wD4",
        "outputId": "b64ec553-9b45-4d86-d330-b0ae6a7a129c"
      },
      "outputs": [
        {
          "output_type": "stream",
          "name": "stdout",
          "text": [
            "Mounted at /content/drive\n"
          ]
        }
      ],
      "source": [
        "# Mount Google Drive\n",
        "from google.colab import drive\n",
        "drive.mount('/content/drive')\n"
      ]
    },
    {
      "cell_type": "code",
      "source": [
        "import os\n",
        "# Set paths\n",
        "biomed_path = \"/content/drive/MyDrive/BIOMED\"\n",
        "ham10000_path = os.path.join(biomed_path, \"HAM10000\")"
      ],
      "metadata": {
        "id": "5F9hRk7wBRi8"
      },
      "execution_count": 3,
      "outputs": []
    },
    {
      "cell_type": "code",
      "source": [
        "\n",
        "import pandas as pd\n",
        "import numpy as np\n",
        "from sklearn.model_selection import train_test_split\n",
        "import tensorflow as tf\n",
        "from tensorflow.keras.preprocessing.image import ImageDataGenerator\n",
        "from tensorflow.keras.applications import EfficientNetB0\n",
        "from tensorflow.keras.applications.efficientnet import preprocess_input\n",
        "from tensorflow.keras.layers import GlobalAveragePooling2D, Dense\n",
        "from tensorflow.keras.models import Model\n",
        "from tensorflow.keras.optimizers import Adam\n",
        "from tensorflow.keras import regularizers\n",
        "\n",
        "\n",
        "\n",
        "# Load metadata\n",
        "metadata = pd.read_csv(os.path.join(biomed_path, \"HAM10000_metadata.csv\"))\n",
        "\n",
        "# Update the image_id column to include the full path to the images\n",
        "metadata[\"image_id\"] = metadata.apply(lambda row: os.path.join(biomed_path, \"HAM10000_images_part_1\", row[\"image_id\"] + \".jpg\") if row[\"image_id\"][0] == 'I' else os.path.join(biomed_path, \"HAM10000_images_part_2\", row[\"image_id\"] + \".jpg\"), axis=1)\n",
        "\n",
        "# Split the dataset into training, validation, and test sets\n",
        "train_df, test_df = train_test_split(metadata, test_size=0.2, random_state=42, stratify=metadata[\"dx\"])\n",
        "train_df, val_df = train_test_split(train_df, test_size=0.25, random_state=42, stratify=train_df[\"dx\"])\n",
        "\n",
        "# Data preprocessing and augmentation\n",
        "train_datagen = ImageDataGenerator(\n",
        "    preprocessing_function=preprocess_input,\n",
        "    rotation_range=20,\n",
        "    zoom_range=0.1,\n",
        "    width_shift_range=0.1,\n",
        "    height_shift_range=0.1,\n",
        "    horizontal_flip=True,\n",
        "    vertical_flip=True,\n",
        ")\n",
        "\n",
        "val_datagen = ImageDataGenerator(preprocessing_function=preprocess_input)\n",
        "\n",
        "image_size = 240\n",
        "batch_size = 32\n",
        "\n",
        "train_generator = train_datagen.flow_from_dataframe(\n",
        "    train_df,\n",
        "    x_col=\"image_id\",\n",
        "    y_col=\"dx\",\n",
        "    target_size=(image_size, image_size),\n",
        "    batch_size=batch_size,\n",
        "    class_mode=\"categorical\",\n",
        ")\n",
        "\n",
        "val_generator = val_datagen.flow_from_dataframe(\n",
        "    val_df,\n",
        "    x_col=\"image_id\",\n",
        "    y_col=\"dx\",\n",
        "    target_size=(image_size, image_size),\n",
        "    batch_size=batch_size,\n",
        "    class_mode=\"categorical\",\n",
        ")\n",
        "\n",
        "# Load EfficientNetB0 model\n",
        "base_model = EfficientNetB0(weights=\"imagenet\", include_top=False, input_shape=(image_size, image_size, 3))\n",
        "\n",
        "# Add custom layers\n",
        "x = base_model.output\n",
        "x = GlobalAveragePooling2D()(x)\n",
        "output = Dense(7, activation=\"softmax\", kernel_regularizer=regularizers.l2(0.01))(x)\n",
        "\n",
        "model = Model(inputs=base_model.input, outputs=output)\n",
        "\n",
        "# Compile the model\n",
        "model.compile(optimizer=Adam(lr=0.001), loss=\"categorical_crossentropy\", metrics=[\"accuracy\"])\n",
        "\n",
        "# Train the model\n",
        "num_epochs = 25\n",
        "history = model.fit(\n",
        "    train_generator,\n",
        "    steps_per_epoch=train_generator.n // batch_size,\n",
        "    validation_data=val_generator,\n",
        "    validation_steps=val_generator.n // batch_size,\n",
        "    epochs=num_epochs,\n",
        ")\n",
        "\n",
        "# Save the trained model\n",
        "model.save(\"efficientnetb0_ham10000.h5\")\n"
      ],
      "metadata": {
        "colab": {
          "base_uri": "https://localhost:8080/"
        },
        "id": "gvtgHBm2BRqL",
        "outputId": "57a4de8a-5a8c-4d52-d539-abeff7177f14"
      },
      "execution_count": null,
      "outputs": [
        {
          "metadata": {
            "tags": null
          },
          "name": "stdout",
          "output_type": "stream",
          "text": [
            "Found 3042 validated image filenames belonging to 7 classes.\n"
          ]
        },
        {
          "metadata": {
            "tags": null
          },
          "name": "stderr",
          "output_type": "stream",
          "text": [
            "/usr/local/lib/python3.9/dist-packages/keras/preprocessing/image.py:1137: UserWarning: Found 2967 invalid image filename(s) in x_col=\"image_id\". These filename(s) will be ignored.\n",
            "  warnings.warn(\n"
          ]
        },
        {
          "metadata": {
            "tags": null
          },
          "name": "stdout",
          "output_type": "stream",
          "text": [
            "Found 968 validated image filenames belonging to 7 classes.\n"
          ]
        },
        {
          "metadata": {
            "tags": null
          },
          "name": "stderr",
          "output_type": "stream",
          "text": [
            "/usr/local/lib/python3.9/dist-packages/keras/preprocessing/image.py:1137: UserWarning: Found 1035 invalid image filename(s) in x_col=\"image_id\". These filename(s) will be ignored.\n",
            "  warnings.warn(\n"
          ]
        },
        {
          "metadata": {
            "tags": null
          },
          "name": "stdout",
          "output_type": "stream",
          "text": [
            "Downloading data from https://storage.googleapis.com/keras-applications/efficientnetb0_notop.h5\n",
            "16705208/16705208 [==============================] - 0s 0us/step\n"
          ]
        },
        {
          "metadata": {
            "tags": null
          },
          "name": "stderr",
          "output_type": "stream",
          "text": [
            "WARNING:absl:`lr` is deprecated in Keras optimizer, please use `learning_rate` or use the legacy optimizer, e.g.,tf.keras.optimizers.legacy.Adam.\n"
          ]
        },
        {
          "output_type": "stream",
          "name": "stdout",
          "text": [
            "Epoch 1/25\n",
            "95/95 [==============================] - 1472s 15s/step - loss: 0.8310 - accuracy: 0.7518 - val_loss: 1.9016 - val_accuracy: 0.7312\n",
            "Epoch 2/25\n",
            "95/95 [==============================] - 1245s 13s/step - loss: 0.6050 - accuracy: 0.8116 - val_loss: 0.7222 - val_accuracy: 0.7812\n",
            "Epoch 3/25\n",
            "95/95 [==============================] - 1274s 13s/step - loss: 0.5074 - accuracy: 0.8342 - val_loss: 0.7201 - val_accuracy: 0.7875\n",
            "Epoch 4/25\n",
            "95/95 [==============================] - 1286s 14s/step - loss: 0.4528 - accuracy: 0.8530 - val_loss: 1.1079 - val_accuracy: 0.6958\n",
            "Epoch 5/25\n",
            "52/95 [===============>..............] - ETA: 8:31 - loss: 0.3919 - accuracy: 0.8672"
          ]
        }
      ]
    },
    {
      "cell_type": "code",
      "source": [],
      "metadata": {
        "id": "Pw0mnHdxCIu0"
      },
      "execution_count": null,
      "outputs": []
    }
  ]
}